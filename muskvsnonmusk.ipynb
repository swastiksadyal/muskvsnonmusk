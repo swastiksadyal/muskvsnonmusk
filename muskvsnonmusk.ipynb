{
  "nbformat": 4,
  "nbformat_minor": 0,
  "metadata": {
    "colab": {
      "name": "muskvsnonmusk.ipynb",
      "provenance": []
    },
    "kernelspec": {
      "name": "python3",
      "display_name": "Python 3"
    }
  },
  "cells": [
    {
      "cell_type": "code",
      "metadata": {
        "id": "b5pMvtqY8D1B"
      },
      "source": [
        "import torch\n",
        "import torchvision\n",
        "from torchvision import transforms, datasets\n",
        "import numpy as np\n",
        "import matplotlib.pyplot as plt\n",
        "import pandas as pd\n",
        "from tqdm.notebook import tqdm"
      ],
      "execution_count": 2,
      "outputs": []
    },
    {
      "cell_type": "code",
      "metadata": {
        "id": "p3bibX1U8eQI",
        "colab": {
          "base_uri": "https://localhost:8080/"
        },
        "outputId": "4d0fdba9-50ee-4af1-ad70-d06e763ccfab"
      },
      "source": [
        "col_list = [\"molecule_name\",\"conformation_name\"]\n",
        "for i in range(1,167):\n",
        "    col_list.append(\"f{}\".format(i))    \n",
        "col_list.append(\"class\")\n",
        "print(col_list)"
      ],
      "execution_count": 3,
      "outputs": [
        {
          "output_type": "stream",
          "text": [
            "['molecule_name', 'conformation_name', 'f1', 'f2', 'f3', 'f4', 'f5', 'f6', 'f7', 'f8', 'f9', 'f10', 'f11', 'f12', 'f13', 'f14', 'f15', 'f16', 'f17', 'f18', 'f19', 'f20', 'f21', 'f22', 'f23', 'f24', 'f25', 'f26', 'f27', 'f28', 'f29', 'f30', 'f31', 'f32', 'f33', 'f34', 'f35', 'f36', 'f37', 'f38', 'f39', 'f40', 'f41', 'f42', 'f43', 'f44', 'f45', 'f46', 'f47', 'f48', 'f49', 'f50', 'f51', 'f52', 'f53', 'f54', 'f55', 'f56', 'f57', 'f58', 'f59', 'f60', 'f61', 'f62', 'f63', 'f64', 'f65', 'f66', 'f67', 'f68', 'f69', 'f70', 'f71', 'f72', 'f73', 'f74', 'f75', 'f76', 'f77', 'f78', 'f79', 'f80', 'f81', 'f82', 'f83', 'f84', 'f85', 'f86', 'f87', 'f88', 'f89', 'f90', 'f91', 'f92', 'f93', 'f94', 'f95', 'f96', 'f97', 'f98', 'f99', 'f100', 'f101', 'f102', 'f103', 'f104', 'f105', 'f106', 'f107', 'f108', 'f109', 'f110', 'f111', 'f112', 'f113', 'f114', 'f115', 'f116', 'f117', 'f118', 'f119', 'f120', 'f121', 'f122', 'f123', 'f124', 'f125', 'f126', 'f127', 'f128', 'f129', 'f130', 'f131', 'f132', 'f133', 'f134', 'f135', 'f136', 'f137', 'f138', 'f139', 'f140', 'f141', 'f142', 'f143', 'f144', 'f145', 'f146', 'f147', 'f148', 'f149', 'f150', 'f151', 'f152', 'f153', 'f154', 'f155', 'f156', 'f157', 'f158', 'f159', 'f160', 'f161', 'f162', 'f163', 'f164', 'f165', 'f166', 'class']\n"
          ],
          "name": "stdout"
        }
      ]
    },
    {
      "cell_type": "code",
      "metadata": {
        "id": "0tMntO9S8h7C"
      },
      "source": [
        "df = pd.read_csv('/content/drive/MyDrive/Colab Notebooks/musk_csv.csv', usecols=col_list)\n",
        "df = df.sample(frac = 1) "
      ],
      "execution_count": 4,
      "outputs": []
    },
    {
      "cell_type": "code",
      "metadata": {
        "id": "8Ujd3-M18qbS"
      },
      "source": [
        "dfs,sample,label = np.split(df,[2,-1], axis=1)\n",
        "sample_train, sample_test = np.split(sample,[5281], axis = 0)\n",
        "label_train, label_test = np.split(label,[5281], axis = 0)"
      ],
      "execution_count": 9,
      "outputs": []
    },
    {
      "cell_type": "code",
      "metadata": {
        "id": "CFBWlT-k0qm2"
      },
      "source": [
        "label_train.head(20)"
      ],
      "execution_count": null,
      "outputs": []
    },
    {
      "cell_type": "code",
      "metadata": {
        "id": "1s1cBUIs4HOm"
      },
      "source": [
        "x_train = np.array(sample_train)\n",
        "x_label = np.array(label_train)\n",
        "x_test = np.array(sample_test)\n",
        "x_test_label = np.array(label_test)"
      ],
      "execution_count": 36,
      "outputs": []
    },
    {
      "cell_type": "code",
      "metadata": {
        "id": "a0qyBOtz6jva"
      },
      "source": [
        "x_label = np.asarray(x_label).astype(np.float32)\n",
        "x_train = np.asarray(x_train).astype(np.float32)\n",
        "x_test_label = np.asarray(x_test_label).astype(np.float32)\n",
        "x_test = np.asarray(x_test).astype(np.float32)"
      ],
      "execution_count": 37,
      "outputs": []
    },
    {
      "cell_type": "code",
      "metadata": {
        "colab": {
          "base_uri": "https://localhost:8080/"
        },
        "id": "a4e4hPxQ6KAV",
        "outputId": "e70fb9df-18a2-43e7-cedf-ef23c273a7da"
      },
      "source": [
        "x_test"
      ],
      "execution_count": 38,
      "outputs": [
        {
          "output_type": "execute_result",
          "data": {
            "text/plain": [
              "array([[  37., -117., -127., ...,  -46., -178.,  148.],\n",
              "       [  34.,  -66., -133., ...,  -51., -159.,  130.],\n",
              "       [  60.,   28.,   45., ...,  -40., -132.,  141.],\n",
              "       ...,\n",
              "       [  53.,  -99.,    4., ...,  -44., -116.,  118.],\n",
              "       [ 223., -198., -112., ...,  -10.,  -97.,  -30.],\n",
              "       [ 104.,  -80.,  -59., ...,  -42., -128.,  134.]], dtype=float32)"
            ]
          },
          "metadata": {
            "tags": []
          },
          "execution_count": 38
        }
      ]
    },
    {
      "cell_type": "code",
      "metadata": {
        "colab": {
          "base_uri": "https://localhost:8080/"
        },
        "id": "h7wakL164dXx",
        "outputId": "982fc6e4-c3dc-412e-8ee4-01594b17d4d1"
      },
      "source": [
        "x_train.shape"
      ],
      "execution_count": 29,
      "outputs": [
        {
          "output_type": "execute_result",
          "data": {
            "text/plain": [
              "(5281, 166)"
            ]
          },
          "metadata": {
            "tags": []
          },
          "execution_count": 29
        }
      ]
    },
    {
      "cell_type": "code",
      "metadata": {
        "id": "mFP_STqw0sGe"
      },
      "source": [
        "## tthe model\n",
        "import os\n",
        "import tensorflow as tf\n",
        "from tensorflow import keras\n",
        "from tensorflow.keras import layers"
      ],
      "execution_count": 30,
      "outputs": []
    },
    {
      "cell_type": "code",
      "metadata": {
        "id": "emNDGGI020ps"
      },
      "source": [
        "model = keras.Sequential(\n",
        "    [\n",
        "        keras.Input(shape=(166)),\n",
        "        layers.Dense(64, activation=\"relu\"),\n",
        "        layers.Dense(64, activation=\"relu\"),\n",
        "        layers.Dense(1, activation='sigmoid'),\n",
        "    ]\n",
        ")\n",
        "\n",
        "\n",
        "model.compile(\n",
        "    loss='binary_crossentropy', # Cross-entropy\n",
        "                optimizer='rmsprop', # Root Mean Square Propagation\n",
        "                metrics=['accuracy']\n",
        ")"
      ],
      "execution_count": 69,
      "outputs": []
    },
    {
      "cell_type": "code",
      "metadata": {
        "colab": {
          "base_uri": "https://localhost:8080/"
        },
        "id": "zcPZfWt629s0",
        "outputId": "b893513c-05b8-4744-a41c-78aa2818dd29"
      },
      "source": [
        "history = model.fit(x_train, x_label, batch_size=32, epochs=32, verbose=2,validation_data=(x_test, x_test_label))"
      ],
      "execution_count": 71,
      "outputs": [
        {
          "output_type": "stream",
          "text": [
            "Epoch 1/32\n",
            "166/166 - 0s - loss: 3.2055 - accuracy: 0.8695 - val_loss: 1.3136 - val_accuracy: 0.8808\n",
            "Epoch 2/32\n",
            "166/166 - 0s - loss: 0.9672 - accuracy: 0.9208 - val_loss: 0.5716 - val_accuracy: 0.9408\n",
            "Epoch 3/32\n",
            "166/166 - 0s - loss: 0.6056 - accuracy: 0.9430 - val_loss: 0.4970 - val_accuracy: 0.9605\n",
            "Epoch 4/32\n",
            "166/166 - 0s - loss: 0.4313 - accuracy: 0.9485 - val_loss: 0.2967 - val_accuracy: 0.9620\n",
            "Epoch 5/32\n",
            "166/166 - 0s - loss: 0.3436 - accuracy: 0.9544 - val_loss: 0.4303 - val_accuracy: 0.9582\n",
            "Epoch 6/32\n",
            "166/166 - 0s - loss: 0.2746 - accuracy: 0.9591 - val_loss: 0.1735 - val_accuracy: 0.9719\n",
            "Epoch 7/32\n",
            "166/166 - 0s - loss: 0.2177 - accuracy: 0.9661 - val_loss: 0.1505 - val_accuracy: 0.9704\n",
            "Epoch 8/32\n",
            "166/166 - 0s - loss: 0.1909 - accuracy: 0.9678 - val_loss: 0.2691 - val_accuracy: 0.9651\n",
            "Epoch 9/32\n",
            "166/166 - 0s - loss: 0.1642 - accuracy: 0.9763 - val_loss: 0.3125 - val_accuracy: 0.9681\n",
            "Epoch 10/32\n",
            "166/166 - 0s - loss: 0.1819 - accuracy: 0.9735 - val_loss: 0.2037 - val_accuracy: 0.9749\n",
            "Epoch 11/32\n",
            "166/166 - 0s - loss: 0.1264 - accuracy: 0.9767 - val_loss: 0.2130 - val_accuracy: 0.9628\n",
            "Epoch 12/32\n",
            "166/166 - 0s - loss: 0.1350 - accuracy: 0.9807 - val_loss: 0.1691 - val_accuracy: 0.9719\n",
            "Epoch 13/32\n",
            "166/166 - 0s - loss: 0.0769 - accuracy: 0.9831 - val_loss: 0.1163 - val_accuracy: 0.9810\n",
            "Epoch 14/32\n",
            "166/166 - 0s - loss: 0.0910 - accuracy: 0.9854 - val_loss: 0.1939 - val_accuracy: 0.9711\n",
            "Epoch 15/32\n",
            "166/166 - 0s - loss: 0.0915 - accuracy: 0.9828 - val_loss: 0.1605 - val_accuracy: 0.9757\n",
            "Epoch 16/32\n",
            "166/166 - 0s - loss: 0.0869 - accuracy: 0.9867 - val_loss: 0.1514 - val_accuracy: 0.9825\n",
            "Epoch 17/32\n",
            "166/166 - 0s - loss: 0.0682 - accuracy: 0.9866 - val_loss: 0.1359 - val_accuracy: 0.9825\n",
            "Epoch 18/32\n",
            "166/166 - 0s - loss: 0.0722 - accuracy: 0.9852 - val_loss: 0.2443 - val_accuracy: 0.9734\n",
            "Epoch 19/32\n",
            "166/166 - 0s - loss: 0.0414 - accuracy: 0.9903 - val_loss: 0.1225 - val_accuracy: 0.9772\n",
            "Epoch 20/32\n",
            "166/166 - 0s - loss: 0.0455 - accuracy: 0.9903 - val_loss: 0.0843 - val_accuracy: 0.9879\n",
            "Epoch 21/32\n",
            "166/166 - 0s - loss: 0.0449 - accuracy: 0.9896 - val_loss: 0.0906 - val_accuracy: 0.9871\n",
            "Epoch 22/32\n",
            "166/166 - 0s - loss: 0.0524 - accuracy: 0.9907 - val_loss: 0.3585 - val_accuracy: 0.9499\n",
            "Epoch 23/32\n",
            "166/166 - 0s - loss: 0.0573 - accuracy: 0.9913 - val_loss: 0.1914 - val_accuracy: 0.9727\n",
            "Epoch 24/32\n",
            "166/166 - 0s - loss: 0.0413 - accuracy: 0.9917 - val_loss: 0.1866 - val_accuracy: 0.9818\n",
            "Epoch 25/32\n",
            "166/166 - 0s - loss: 0.0447 - accuracy: 0.9932 - val_loss: 0.1235 - val_accuracy: 0.9871\n",
            "Epoch 26/32\n",
            "166/166 - 0s - loss: 0.0514 - accuracy: 0.9917 - val_loss: 0.1828 - val_accuracy: 0.9772\n",
            "Epoch 27/32\n",
            "166/166 - 0s - loss: 0.0507 - accuracy: 0.9915 - val_loss: 0.1059 - val_accuracy: 0.9871\n",
            "Epoch 28/32\n",
            "166/166 - 0s - loss: 0.0388 - accuracy: 0.9938 - val_loss: 0.1290 - val_accuracy: 0.9863\n",
            "Epoch 29/32\n",
            "166/166 - 0s - loss: 0.0410 - accuracy: 0.9928 - val_loss: 0.3139 - val_accuracy: 0.9590\n",
            "Epoch 30/32\n",
            "166/166 - 0s - loss: 0.0296 - accuracy: 0.9938 - val_loss: 0.0592 - val_accuracy: 0.9932\n",
            "Epoch 31/32\n",
            "166/166 - 0s - loss: 0.0353 - accuracy: 0.9930 - val_loss: 0.0539 - val_accuracy: 0.9909\n",
            "Epoch 32/32\n",
            "166/166 - 0s - loss: 0.0435 - accuracy: 0.9947 - val_loss: 0.0765 - val_accuracy: 0.9909\n"
          ],
          "name": "stdout"
        }
      ]
    },
    {
      "cell_type": "code",
      "metadata": {
        "colab": {
          "base_uri": "https://localhost:8080/",
          "height": 544
        },
        "id": "3zPCymiV71CQ",
        "outputId": "3998388e-e149-4ab5-b64f-cacf740d94ce"
      },
      "source": [
        "# Get training and test loss histories\n",
        "training_loss = history.history['loss']\n",
        "test_loss = history.history['val_loss']\n",
        "training_accuracy = history.history['accuracy']\n",
        "test_accuracy = history.history['val_accuracy']\n",
        "# Create count of the number of epochs\n",
        "epoch_count = range(1, len(training_loss) + 1)\n",
        "\n",
        "# Visualize loss history\n",
        "plt.plot(epoch_count, training_loss, 'r--')\n",
        "plt.plot(epoch_count, test_loss, 'b-')\n",
        "plt.legend(['Training Loss', 'Test Loss'])\n",
        "plt.xlabel('Epoch')\n",
        "plt.ylabel('Loss')\n",
        "plt.show();\n",
        "plt.plot(epoch_count, training_accuracy)\n",
        "plt.plot(epoch_count, test_accuracy)\n",
        "plt.legend(['train acc', 'Test acc'])\n",
        "plt.xlabel('Epoch')\n",
        "plt.ylabel('acc')\n",
        "plt.show();"
      ],
      "execution_count": 72,
      "outputs": [
        {
          "output_type": "display_data",
          "data": {
            "image/png": "[encoded data removed]",
            "text/plain": [
              "<Figure size 432x288 with 1 Axes>"
            ]
          },
          "metadata": {
            "tags": [],
            "needs_background": "light"
          }
        },
        {
          "output_type": "display_data",
          "data": {
            "image/png": "[encoded data removed]",
            "text/plain": [
              "<Figure size 432x288 with 1 Axes>"
            ]
          },
          "metadata": {
            "tags": [],
            "needs_background": "light"
          }
        }
      ]
    },
    {
      "cell_type": "code",
      "metadata": {
        "id": "NbxdsME39M8D"
      },
      "source": [
        ""
      ],
      "execution_count": null,
      "outputs": []
    }
  ]
}